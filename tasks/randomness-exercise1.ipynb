{
 "cells": [
  {
   "cell_type": "markdown",
   "id": "16f177de",
   "metadata": {},
   "source": [
    "# Topic 2: Randomness, Exercise 1"
   ]
  },
  {
   "cell_type": "markdown",
   "id": "a90afe28",
   "metadata": {},
   "source": [
    "### It is somewhat interesting that (5 * 4 * 3 * 2 * 1) perfectly divides (10 * 9 * 8 * 7 * 6) - there's no remainder.\n",
    "\n",
    "### If we only wanted exactly four heads as opposed to five, the equivalent calculation would be (10 * 9 * 8 * 7) / (4 * 3 * 2 * 1).\n",
    "\n",
    "### Does that evenly divide too? What is the formula in general?\n",
    "\n",
    "### Does it always come out as a positive whole number?"
   ]
  },
  {
   "cell_type": "code",
   "execution_count": null,
   "id": "b5806dd7",
   "metadata": {},
   "outputs": [],
   "source": [
    "# Exactly four heads, outcome always a positive integer\n",
    "\n",
    "(10 * 9 * 8 * 7) // (4 * 3 * 2 * 1)"
   ]
  },
  {
   "cell_type": "code",
   "execution_count": null,
   "id": "4d390227",
   "metadata": {},
   "outputs": [],
   "source": [
    "# Exactly five heads\n",
    "\n",
    "(10 * 9 * 8 * 7 * 6) // (5 * 4 * 3 * 2 * 1)"
   ]
  },
  {
   "cell_type": "code",
   "execution_count": null,
   "id": "7c8a921a",
   "metadata": {},
   "outputs": [],
   "source": [
    "# Check possible combinations\n",
    "zero_combinations = 0\n",
    "\n",
    "# print combinations, iterate\n",
    "for first in [1, 2, 3, 4, 7, 8, 9, 10]:\n",
    "    for second in [1, 2, 3, 4, 7, 8, 9, 10]:\n",
    "        if not first == second:\n",
    "            print(f'({first:2},{second:2})')\n",
    "            zero_combinations = zero_combinations + 1"
   ]
  },
  {
   "cell_type": "code",
   "execution_count": null,
   "id": "4f2b2578",
   "metadata": {},
   "outputs": [],
   "source": [
    "# How many zero combinations possible, always a positive integer\n",
    "print(zero_combinations)"
   ]
  },
  {
   "cell_type": "markdown",
   "id": "e0390afe",
   "metadata": {},
   "source": [
    "Resources:\n",
    "\n",
    "https://www.ncbi.nlm.nih.gov/pmc/articles/PMC2789164/#:~:text=They%20suggest%20that%2C%20for%20natural,of%20assumptions%20or%20required%20conditions.\n",
    "\n",
    "https://daily.jstor.org/statistics-of-coin-tosses-theater-geeks/\n",
    "\n",
    "https://digfir-published.macmillanusa.com/psbe4e/psbe4e_ch4_2.html\n",
    "\n",
    "https://phas.ubc.ca/~stamp/TEACHING/SCIE113/NOTES/1.pdf"
   ]
  }
 ],
 "metadata": {
  "kernelspec": {
   "display_name": "Python 3 (ipykernel)",
   "language": "python",
   "name": "python3"
  },
  "language_info": {
   "codemirror_mode": {
    "name": "ipython",
    "version": 3
   },
   "file_extension": ".py",
   "mimetype": "text/x-python",
   "name": "python",
   "nbconvert_exporter": "python",
   "pygments_lexer": "ipython3",
   "version": "3.9.7"
  }
 },
 "nbformat": 4,
 "nbformat_minor": 5
}
