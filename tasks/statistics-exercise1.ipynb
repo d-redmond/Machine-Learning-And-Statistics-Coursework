{
 "cells": [
  {
   "cell_type": "markdown",
   "id": "5cad678c",
   "metadata": {},
   "source": [
    "# Topic 1: Statistics, Exercise 1"
   ]
  },
  {
   "cell_type": "markdown",
   "id": "d8a574df",
   "metadata": {},
   "source": [
    "The Lady Tasting Tea problem was first described by Ronald A. Fisher in his book The Design of Experiments.\n",
    "\n",
    "He described the problem as follows:\n",
    "\n",
    "A lady declares that by tasting a cup of tea made with milk she can discriminate whether the milk or the tea infusion was first added to the cup: We will consider the problem of designing an experiment by means of which this assertion can be tested. For this purpose let us first lay down a simple form of experiment with a view to studying its limitations and its characteristics, both those which appear to be essential to the experimental method, when well developed, and those which are not essential but auxiliary.\n",
    "\n",
    "Our experiment consists in mixing eight cups of tea, four in one way and four in the other, and presenting them to the subject for judgment in a random order. The subject has been told in advance of what the test will consist, namely that she will be asked to taste eight cups, that these shall be four of each kind, and that they shall be presented to her in a random order, that is in an order not determined arbitrarily by human choice, but by the actual manipulation of the physical apparatus used in games of chance, cards, dice, roulettes, etc., or, more expeditiously, from a published collection of random sampling numbers purporting to give the actual results of such manipulation. Her task is to divide the 8 cups into two sets of 4, agreeing, if possible, with the treatments received."
   ]
  },
  {
   "cell_type": "code",
   "execution_count": 1,
   "id": "7e574bdd",
   "metadata": {},
   "outputs": [
    {
     "data": {
      "text/plain": [
       "[0, 1, 2, 3, 4, 5, 6, 7]"
      ]
     },
     "execution_count": 1,
     "metadata": {},
     "output_type": "execute_result"
    }
   ],
   "source": [
    "# The eight cups.\n",
    "cups = list(range(8))\n",
    "cups"
   ]
  },
  {
   "cell_type": "code",
   "execution_count": 2,
   "id": "283e0e9a",
   "metadata": {},
   "outputs": [
    {
     "data": {
      "text/plain": [
       "70.0"
      ]
     },
     "execution_count": 2,
     "metadata": {},
     "output_type": "execute_result"
    }
   ],
   "source": [
    "(8*7*6*5)/(4*3*2*1)"
   ]
  },
  {
   "cell_type": "code",
   "execution_count": 3,
   "id": "dafb5dfb",
   "metadata": {},
   "outputs": [
    {
     "data": {
      "text/plain": [
       "[(0, 1, 2, 3),\n",
       " (0, 1, 2, 4),\n",
       " (0, 1, 2, 5),\n",
       " (0, 1, 2, 6),\n",
       " (0, 1, 2, 7),\n",
       " (0, 1, 3, 4),\n",
       " (0, 1, 3, 5),\n",
       " (0, 1, 3, 6),\n",
       " (0, 1, 3, 7),\n",
       " (0, 1, 4, 5),\n",
       " (0, 1, 4, 6),\n",
       " (0, 1, 4, 7),\n",
       " (0, 1, 5, 6),\n",
       " (0, 1, 5, 7),\n",
       " (0, 1, 6, 7),\n",
       " (0, 2, 3, 4),\n",
       " (0, 2, 3, 5),\n",
       " (0, 2, 3, 6),\n",
       " (0, 2, 3, 7),\n",
       " (0, 2, 4, 5),\n",
       " (0, 2, 4, 6),\n",
       " (0, 2, 4, 7),\n",
       " (0, 2, 5, 6),\n",
       " (0, 2, 5, 7),\n",
       " (0, 2, 6, 7),\n",
       " (0, 3, 4, 5),\n",
       " (0, 3, 4, 6),\n",
       " (0, 3, 4, 7),\n",
       " (0, 3, 5, 6),\n",
       " (0, 3, 5, 7),\n",
       " (0, 3, 6, 7),\n",
       " (0, 4, 5, 6),\n",
       " (0, 4, 5, 7),\n",
       " (0, 4, 6, 7),\n",
       " (0, 5, 6, 7),\n",
       " (1, 2, 3, 4),\n",
       " (1, 2, 3, 5),\n",
       " (1, 2, 3, 6),\n",
       " (1, 2, 3, 7),\n",
       " (1, 2, 4, 5),\n",
       " (1, 2, 4, 6),\n",
       " (1, 2, 4, 7),\n",
       " (1, 2, 5, 6),\n",
       " (1, 2, 5, 7),\n",
       " (1, 2, 6, 7),\n",
       " (1, 3, 4, 5),\n",
       " (1, 3, 4, 6),\n",
       " (1, 3, 4, 7),\n",
       " (1, 3, 5, 6),\n",
       " (1, 3, 5, 7),\n",
       " (1, 3, 6, 7),\n",
       " (1, 4, 5, 6),\n",
       " (1, 4, 5, 7),\n",
       " (1, 4, 6, 7),\n",
       " (1, 5, 6, 7),\n",
       " (2, 3, 4, 5),\n",
       " (2, 3, 4, 6),\n",
       " (2, 3, 4, 7),\n",
       " (2, 3, 5, 6),\n",
       " (2, 3, 5, 7),\n",
       " (2, 3, 6, 7),\n",
       " (2, 4, 5, 6),\n",
       " (2, 4, 5, 7),\n",
       " (2, 4, 6, 7),\n",
       " (2, 5, 6, 7),\n",
       " (3, 4, 5, 6),\n",
       " (3, 4, 5, 7),\n",
       " (3, 4, 6, 7),\n",
       " (3, 5, 6, 7),\n",
       " (4, 5, 6, 7)]"
      ]
     },
     "execution_count": 3,
     "metadata": {},
     "output_type": "execute_result"
    }
   ],
   "source": [
    "import itertools\n",
    "\n",
    "# All possible combinations\n",
    "poss = list(itertools.combinations(cups, 4))\n",
    "poss"
   ]
  },
  {
   "cell_type": "code",
   "execution_count": 4,
   "id": "0f2e3010",
   "metadata": {},
   "outputs": [
    {
     "data": {
      "text/plain": [
       "0.014285714285714285"
      ]
     },
     "execution_count": 4,
     "metadata": {},
     "output_type": "execute_result"
    }
   ],
   "source": [
    "# Only one of the 70 randomly selected possibilities is the desired result.\n",
    "1 / 70"
   ]
  },
  {
   "cell_type": "markdown",
   "id": "f9264e58",
   "metadata": {},
   "source": [
    "### Task: \n",
    "\n",
    "### The code above gives about a 1.5% chance of randomly selecting the correct cups. Calculate the minimum number of cups of tea required to ensure the probability of randomly selecting the correct cups is less than or equal to 1%.\n",
    "\n",
    "### Bonus: How many would be required if you were to let the taster get one cup wrong while maintaining the 1% threshold?"
   ]
  },
  {
   "cell_type": "code",
   "execution_count": 5,
   "id": "4c24d3f4",
   "metadata": {},
   "outputs": [
    {
     "data": {
      "text/plain": [
       "[0, 1, 2, 3, 4, 5, 6, 7]"
      ]
     },
     "execution_count": 5,
     "metadata": {},
     "output_type": "execute_result"
    }
   ],
   "source": [
    "# The eight cups.\n",
    "cups = list(range(8))\n",
    "cups"
   ]
  },
  {
   "cell_type": "code",
   "execution_count": 6,
   "id": "e833afa5",
   "metadata": {},
   "outputs": [
    {
     "data": {
      "text/plain": [
       "70"
      ]
     },
     "execution_count": 6,
     "metadata": {},
     "output_type": "execute_result"
    }
   ],
   "source": [
    "# One in 70 randomly selected possibilites = probability 0.014285714285714285\n",
    "(8*7*6*5)/(4*3*2*1)\n",
    "\n",
    "# Or:\n",
    "# Returns he total number of possibilities to choose k things from n items\n",
    "import math\n",
    "math.comb(8, 4)"
   ]
  },
  {
   "cell_type": "code",
   "execution_count": 7,
   "id": "96791c83",
   "metadata": {},
   "outputs": [
    {
     "data": {
      "text/plain": [
       "56"
      ]
     },
     "execution_count": 7,
     "metadata": {},
     "output_type": "execute_result"
    }
   ],
   "source": [
    "# 8 cups at 1.5%, therefore 5 cups at 1%\n",
    "# 8=1.5%, x=1, 8.x=8 => 5.333\n",
    "cups = 8\n",
    "x = int(5.333)\n",
    "math.comb(cups, x)\n"
   ]
  },
  {
   "cell_type": "code",
   "execution_count": 11,
   "id": "7f9215b2",
   "metadata": {},
   "outputs": [
    {
     "data": {
      "text/plain": [
       "0.014285714285714285"
      ]
     },
     "execution_count": 11,
     "metadata": {},
     "output_type": "execute_result"
    }
   ],
   "source": [
    "# Probability for randomly selecting four cups of eight correctly\n",
    "1.0/math.comb(8,4)"
   ]
  },
  {
   "cell_type": "code",
   "execution_count": 12,
   "id": "242fb473",
   "metadata": {},
   "outputs": [
    {
     "data": {
      "text/plain": [
       "126"
      ]
     },
     "execution_count": 12,
     "metadata": {},
     "output_type": "execute_result"
    }
   ],
   "source": [
    "# Previous probaility output too low, try with nine cups\n",
    "math.comb(9,4)"
   ]
  },
  {
   "cell_type": "code",
   "execution_count": 13,
   "id": "909b9e88",
   "metadata": {},
   "outputs": [
    {
     "data": {
      "text/plain": [
       "0.007936507936507936"
      ]
     },
     "execution_count": 13,
     "metadata": {},
     "output_type": "execute_result"
    }
   ],
   "source": [
    "# Probability for randomly selecting four cups of nine correctly\n",
    "1.0/math.comb(9,4)"
   ]
  },
  {
   "cell_type": "code",
   "execution_count": 14,
   "id": "d658cdcc",
   "metadata": {},
   "outputs": [
    {
     "data": {
      "text/plain": [
       "0.004761904761904762"
      ]
     },
     "execution_count": 14,
     "metadata": {},
     "output_type": "execute_result"
    }
   ],
   "source": [
    "# Probability for randomly selecting four cups of ten correctly\n",
    "1.0/math.comb(10,4)"
   ]
  },
  {
   "cell_type": "markdown",
   "id": "9f048070",
   "metadata": {},
   "source": [
    "Answer: \n",
    "\n",
    "10 cups exceeds 1% probability, \n",
    "8 cups below 1% probaility, \n",
    "9 cups covers both 1% and below probability."
   ]
  },
  {
   "cell_type": "markdown",
   "id": "b29c0654",
   "metadata": {},
   "source": [
    "Resources:\n",
    "\n",
    "https://towardsdatascience.com/lady-tasting-tea-a-bayesian-approach-1b0b94ca1530"
   ]
  }
 ],
 "metadata": {
  "kernelspec": {
   "display_name": "Python 3 (ipykernel)",
   "language": "python",
   "name": "python3"
  },
  "language_info": {
   "codemirror_mode": {
    "name": "ipython",
    "version": 3
   },
   "file_extension": ".py",
   "mimetype": "text/x-python",
   "name": "python",
   "nbconvert_exporter": "python",
   "pygments_lexer": "ipython3",
   "version": "3.9.7"
  }
 },
 "nbformat": 4,
 "nbformat_minor": 5
}
