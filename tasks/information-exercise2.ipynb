{
 "cells": [
  {
   "cell_type": "markdown",
   "id": "1a12b5f7",
   "metadata": {},
   "source": [
    "# Topic 1: Information, Exercise 2"
   ]
  },
  {
   "cell_type": "markdown",
   "id": "b829bc31",
   "metadata": {},
   "source": [
    "### Explain why the log of zero is undefined."
   ]
  },
  {
   "cell_type": "markdown",
   "id": "2f910da9",
   "metadata": {},
   "source": [
    "Log function: log b(x) where x>0\n",
    "\n",
    "The log function is undefined when the argument is zero or negative. A negative argument can be passed to a log function, however an argument of zero will not be computable as zero can not be raised to the power of other numbers. "
   ]
  },
  {
   "cell_type": "markdown",
   "id": "dfcdb6c3",
   "metadata": {},
   "source": [
    "Resources:\n",
    "\n",
    "https://ung.edu/learning-support/video-transcripts/why-dividing-by-zero-is-undefined.php\n",
    "\n",
    "https://math.stackexchange.com/questions/3444601/is-log-0-is-or-is-not-undefined\n",
    "\n",
    "https://www.quora.com/What-is-the-proof-of-log-0-undefined"
   ]
  }
 ],
 "metadata": {
  "kernelspec": {
   "display_name": "Python 3 (ipykernel)",
   "language": "python",
   "name": "python3"
  },
  "language_info": {
   "codemirror_mode": {
    "name": "ipython",
    "version": 3
   },
   "file_extension": ".py",
   "mimetype": "text/x-python",
   "name": "python",
   "nbconvert_exporter": "python",
   "pygments_lexer": "ipython3",
   "version": "3.9.7"
  }
 },
 "nbformat": 4,
 "nbformat_minor": 5
}
