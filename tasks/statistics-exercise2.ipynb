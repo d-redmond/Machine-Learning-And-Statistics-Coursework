{
 "cells": [
  {
   "cell_type": "markdown",
   "id": "af726d1d",
   "metadata": {},
   "source": [
    "# Topic 1: Statistics, Exercise 2"
   ]
  },
  {
   "cell_type": "markdown",
   "id": "a58ccef3",
   "metadata": {},
   "source": [
    "### Use scipy's version of Fisher's exact test to simulate the Lady Tasting Tea problem."
   ]
  },
  {
   "cell_type": "code",
   "execution_count": 2,
   "id": "2eace41c",
   "metadata": {},
   "outputs": [],
   "source": [
    "import scipy.stats as stats"
   ]
  },
  {
   "cell_type": "markdown",
   "id": "ea4f3540",
   "metadata": {},
   "source": [
    "Perform a Fisher exact test on a 2 by 2 contingency table. \n",
    "\n",
    "Syntax: scipy.stats.fisher_exact(table, alternative='two-sided')\n",
    "\n",
    "This function takes two parameters: table and alternative.\n",
    "\n",
    "The table parameter must be non-negative integers. It will usually be used to pass in an array of integers. \n",
    "\n",
    "The alternative parameter input is declared in the documentation as: alternative{‘two-sided’, ‘less’, ‘greater’}, optional. This defines the alternative hypothesis.\n",
    "\n",
    "The function returns an object containing attributes with a statistic(float) value and a pvalue(float). Statistic refers to the prior odds ratio while pvalue refers to the probability under the null hypothesis.\n",
    "\n",
    "Source: https://docs.scipy.org/doc/scipy/reference/generated/scipy.stats.fisher_exact.html"
   ]
  },
  {
   "cell_type": "code",
   "execution_count": 9,
   "id": "9cf42481",
   "metadata": {},
   "outputs": [],
   "source": [
    "# Create a dataset\n",
    "# fisher_data has eight cups, four with milk and four without\n",
    "stats.fisher_data = [[4, 0], [0, 4]]"
   ]
  },
  {
   "cell_type": "code",
   "execution_count": 7,
   "id": "f21cf5be",
   "metadata": {},
   "outputs": [
    {
     "name": "stdout",
     "output_type": "stream",
     "text": [
      "odd ratio is : [4, 0]\n",
      "p_value is : [0, 4]\n"
     ]
    }
   ],
   "source": [
    "# Scipy's exact test to simulate Lady Tasting Tea problem\n",
    "# odd_ratio = statistic, prior odds ratio\n",
    "# pvalue = probability under the null hypothesis\n",
    "odd_ratio, p_value = stats.fisher_data\n",
    "print('odd ratio is : ' + str(odd_ratio))\n",
    "print('p_value is : ' + str(p_value))"
   ]
  },
  {
   "cell_type": "markdown",
   "id": "40f51e6e",
   "metadata": {},
   "source": [
    "Resources:\n",
    "\n",
    "https://towardsdatascience.com/fishers-exact-test-from-scratch-with-python-2b907f29e593\n",
    "\n",
    "https://www.reneshbedre.com/blog/fisher-exact-test-python.html\n",
    "\n",
    "https://www.geeksforgeeks.org/how-to-perform-fishers-exact-test-in-python/\n"
   ]
  }
 ],
 "metadata": {
  "kernelspec": {
   "display_name": "Python 3 (ipykernel)",
   "language": "python",
   "name": "python3"
  },
  "language_info": {
   "codemirror_mode": {
    "name": "ipython",
    "version": 3
   },
   "file_extension": ".py",
   "mimetype": "text/x-python",
   "name": "python",
   "nbconvert_exporter": "python",
   "pygments_lexer": "ipython3",
   "version": "3.9.7"
  }
 },
 "nbformat": 4,
 "nbformat_minor": 5
}
