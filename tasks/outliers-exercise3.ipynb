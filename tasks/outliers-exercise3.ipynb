{
 "cells": [
  {
   "cell_type": "markdown",
   "id": "ee69f1c0",
   "metadata": {},
   "source": [
    "# Topic 4: Outliers, Exercise 3"
   ]
  },
  {
   "cell_type": "markdown",
   "id": "6c697a41",
   "metadata": {},
   "source": [
    "### Adapt the above code and plots so that the overall plot is inversely propertional and the individual groups are directly proportional."
   ]
  },
  {
   "cell_type": "code",
   "execution_count": null,
   "id": "6aa9a8a9",
   "metadata": {},
   "outputs": [],
   "source": []
  }
 ],
 "metadata": {
  "kernelspec": {
   "display_name": "Python 3 (ipykernel)",
   "language": "python",
   "name": "python3"
  },
  "language_info": {
   "codemirror_mode": {
    "name": "ipython",
    "version": 3
   },
   "file_extension": ".py",
   "mimetype": "text/x-python",
   "name": "python",
   "nbconvert_exporter": "python",
   "pygments_lexer": "ipython3",
   "version": "3.9.7"
  }
 },
 "nbformat": 4,
 "nbformat_minor": 5
}
