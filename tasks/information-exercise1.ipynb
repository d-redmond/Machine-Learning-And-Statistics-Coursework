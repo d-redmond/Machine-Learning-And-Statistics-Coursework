{
 "cells": [
  {
   "cell_type": "markdown",
   "id": "b70c5e8d",
   "metadata": {},
   "source": [
    "# Topic 1: Information, Exercise 1"
   ]
  },
  {
   "cell_type": "markdown",
   "id": "13a56957",
   "metadata": {},
   "source": [
    "###  Adapt the given code to generate a 1000 character long string with weights based on the previous two characters."
   ]
  },
  {
   "cell_type": "code",
   "execution_count": null,
   "id": "fadf97e6",
   "metadata": {},
   "outputs": [],
   "source": [
    "# Code from lecture\n",
    "import urllib.request\n",
    "import random\n",
    "\n",
    "book_url = 'https://www.gutenberg.org/files/11/11-0.txt'\n",
    "book = list(urllib.request.urlopen(book_url))\n",
    "\n",
    "# Decoding the lines and stripping line endings.\n",
    "book = [line.decode('utf-8-sig').strip() for line in book]\n",
    "\n",
    "# Get a sample paragraph - I looked for this by hand.\n",
    "paragraph = ' '.join(book[58:63])\n",
    "\n",
    "# Changing to lower case\n",
    "alice = paragraph.lower()\n",
    "\n",
    "# All letters and a space.\n",
    "chars = 'abcdefghijklmnopqrstuvwxyz '\n",
    "\n",
    "# Stripping anything that is not a letter or space.\n",
    "alice = ''.join([c for c in alice if c in chars])\n",
    "\n",
    "# Get the length of alice.\n",
    "N = len(alice)\n",
    "\n",
    "# Generate N random characters from chars.\n",
    "gener = random.choices(chars, k=N)\n",
    "\n",
    "# Join them together in a string.\n",
    "gener = ''.join(gener)\n",
    "\n",
    "# Getting the whole book in one big string.\n",
    "sbook = ''.join(book[26:]).lower()\n",
    "\n",
    "# Creating the weights.\n",
    "weights = [sbook.count(c) for c in chars]\n",
    "\n",
    "# Create the weights.\n",
    "twoghts = {c: {d: sbook.count(c + d) for d in chars} for c in chars}\n",
    "\n",
    "# Start with space.\n",
    "pairs = ' '\n",
    "\n",
    "# Do the following N-1 times.\n",
    "for i in range(1, N):\n",
    "    # Get the weights where the previous character is the last character in twos.\n",
    "    wt = twoghts[pairs[-1]]\n",
    "    # Turn wt into a list, ordered by chars.\n",
    "    wt = [wt[c] for c in chars]\n",
    "    # Randomly pick the next character using those weights.\n",
    "    nextc = random.choices(chars, weights=wt, k=1)[0]\n",
    "    # Append the character to twos.\n",
    "    pairs = pairs + nextc\n",
    "    \n",
    "pairs"
   ]
  },
  {
   "cell_type": "code",
   "execution_count": null,
   "id": "c4a575dd",
   "metadata": {},
   "outputs": [],
   "source": [
    "list = 'abcdefghijklmnopqrstuvwxyz'\n",
    "\n",
    "# Set desired length of string\n",
    "n = 1000\n",
    "\n",
    "# random.choice to generate list, join to combined string\n",
    "new_list = random.choices(list, k=N)\n",
    "new_list = ''.join(gener)\n",
    "\n",
    "# Weights based on the previous two characters\n",
    "weights = [new_list[::2] in list]\n",
    "\n",
    "print(new_list)"
   ]
  },
  {
   "cell_type": "markdown",
   "id": "a094380c",
   "metadata": {},
   "source": [
    "Resources: \n",
    "\n",
    "https://www.geeksforgeeks.org/python-generate-random-string-of-given-length/\n",
    "\n",
    "https://www.geeksforgeeks.org/python-program-to-find-the-string-weight/\n",
    "\n",
    "https://pynative.com/python-weighted-random-choices-with-probability/"
   ]
  }
 ],
 "metadata": {
  "kernelspec": {
   "display_name": "Python 3 (ipykernel)",
   "language": "python",
   "name": "python3"
  },
  "language_info": {
   "codemirror_mode": {
    "name": "ipython",
    "version": 3
   },
   "file_extension": ".py",
   "mimetype": "text/x-python",
   "name": "python",
   "nbconvert_exporter": "python",
   "pygments_lexer": "ipython3",
   "version": "3.9.7"
  }
 },
 "nbformat": 4,
 "nbformat_minor": 5
}
