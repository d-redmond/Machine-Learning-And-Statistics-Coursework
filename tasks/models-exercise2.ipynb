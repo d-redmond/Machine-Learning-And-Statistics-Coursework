{
 "cells": [
  {
   "cell_type": "markdown",
   "id": "02a4f866",
   "metadata": {},
   "source": [
    "# Topic 2: Models, Exercise 2"
   ]
  },
  {
   "cell_type": "markdown",
   "id": "a3ead178",
   "metadata": {},
   "source": [
    "### Fit a straight line to the following data points, using all three methods used above.\n",
    "\n",
    "### Do you think a straight line is a good model for these points?\n",
    "\n",
    "x = [2.0, 3.0, 4.0, 5.0, 6.0, 7.0, 8.0, 9.0, 10.0, 11.0, 12.0, 13.0, 14.0, 15.0, 16.0, 17.0, 18.0, 19.0, 20.0]\n",
    "y = [0.7, 1.1, 1.5, 1.6, 1.7, 2.0, 2.3, 2.4, 2.2, 2.1, 2.4, 2.6, 2.2, 2.7, 2.5, 2.7, 2.8, 2.9, 3.1]"
   ]
  },
  {
   "cell_type": "code",
   "execution_count": null,
   "id": "59772ec0",
   "metadata": {},
   "outputs": [],
   "source": [
    "import numpy as np\n",
    "from matplotlib import pyplot as plt\n",
    "\n",
    "# Data\n",
    "x = [2.0, 3.0, 4.0, 5.0, 6.0, 7.0, 8.0, 9.0, 10.0, 11.0, 12.0, 13.0, 14.0, 15.0, 16.0, 17.0, 18.0, 19.0, 20.0]\n",
    "y = [0.7, 1.1, 1.5, 1.6, 1.7, 2.0, 2.3, 2.4, 2.2, 2.1, 2.4, 2.6, 2.2, 2.7, 2.5, 2.7, 2.8, 2.9, 3.1]\n",
    "\n",
    "x = np.array(x)\n",
    "y = np.array(y)"
   ]
  },
  {
   "cell_type": "code",
   "execution_count": null,
   "id": "6e179a2d",
   "metadata": {},
   "outputs": [],
   "source": [
    "# Plotting the data\n",
    "fig, ax = plt.subplots(figsize=(30, 10))\n",
    "ax.plot(x, y, 'k.', label='')\n",
    "plt.show()"
   ]
  },
  {
   "cell_type": "code",
   "execution_count": null,
   "id": "af6109e5",
   "metadata": {},
   "outputs": [],
   "source": [
    "# Best fit\n",
    "m, c = np.polyfit(x, y, 1)\n",
    "plt.plot(x, y, 'k', label='Original')\n",
    "plt.plot(x, m * x + c, 'r-', label='Best Fit')\n",
    "\n",
    "# Add axis labels and a legend\n",
    "plt.xlabel('Value X')\n",
    "plt.ylabel('Value Y')\n",
    "plt.legend();"
   ]
  },
  {
   "cell_type": "code",
   "execution_count": null,
   "id": "b08cf278",
   "metadata": {},
   "outputs": [],
   "source": [
    "import scipy.optimize as opt\n",
    "\n",
    "# Minimize\n",
    "cost = np.sum((y - m * x - c)**2)\n",
    "result = opt.minimize(cost, (2, 2))\n",
    "result\n",
    "\n",
    "# Extracting minimized data\n",
    "m_o, c_o = result.x\n",
    "m_o, c_o\n",
    "\n",
    "# Plotting minimized data\n",
    "fig, ax = plt.subplots(figsize=(25, 5))\n",
    "ax.plot(x, y, 'k.', label='Original')\n",
    "ax.plot(x, m_o * x + c_o, 'b-', label='Opt Mini')\n",
    "ax.legend();3"
   ]
  },
  {
   "cell_type": "code",
   "execution_count": null,
   "id": "aa9528d9",
   "metadata": {},
   "outputs": [],
   "source": [
    "# Curve fit\n",
    "# Define the function\n",
    "def f(x, m, c):\n",
    "    return m * x + c\n",
    "\n",
    "result = so.curve_fit(f, x, y)\n",
    "result\n",
    "\n",
    "(array([0.10315789, 1.04947369]),\n",
    " array([[ 0.00010728, -0.00118012],\n",
    "        [-0.00118012,  0.01619984]]))\n",
    "\n",
    "# Pull out the parameters.\n",
    "m_f, c_f = result[0]\n",
    "# Print values.\n",
    "m_f, c_f\n",
    "\n",
    "# Plot the best fit line from the optimization.\n",
    "fig, ax = plt.subplots(figsize=(25, 5))\n",
    "ax.plot(x, y, 'k.', label='Original data')\n",
    "ax.plot(x, m_f * x + c_f, 'g-', label='Curve Fit line')\n",
    "ax.legend();"
   ]
  },
  {
   "cell_type": "markdown",
   "id": "7b4ef7bf",
   "metadata": {},
   "source": [
    "Resources:\n",
    "\n",
    "https://stackoverflow.com/questions/22240280/least-squares-fit-to-a-straight-line-python-code#:~:text=The%20Least%2DSquares%20Fit%20to%20a%20Straight%20Line%20refers%20to,is%20y%20%3D%20A%20%2B%20Bx.\n",
    "\n",
    "https://www.statology.org/line-of-best-fit-python/\n",
    "\n",
    "https://lmfit.github.io/lmfit-py/model.html\n",
    "\n",
    "https://machinelearningmastery.com/line-search-optimization-with-python/\n",
    "\n",
    "https://rowannicholls.github.io/python/curve_fitting/linear_regression.html\n",
    "\n",
    "https://stackoverflow.com/questions/22240280/least-squares-fit-to-a-straight-line-python-code"
   ]
  }
 ],
 "metadata": {
  "kernelspec": {
   "display_name": "Python 3 (ipykernel)",
   "language": "python",
   "name": "python3"
  },
  "language_info": {
   "codemirror_mode": {
    "name": "ipython",
    "version": 3
   },
   "file_extension": ".py",
   "mimetype": "text/x-python",
   "name": "python",
   "nbconvert_exporter": "python",
   "pygments_lexer": "ipython3",
   "version": "3.9.7"
  }
 },
 "nbformat": 4,
 "nbformat_minor": 5
}
