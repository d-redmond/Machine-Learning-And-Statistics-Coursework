{
 "cells": [
  {
   "cell_type": "markdown",
   "id": "231b92ab",
   "metadata": {},
   "source": [
    "# Topic 1: Statistics, Exercise 3"
   ]
  },
  {
   "cell_type": "markdown",
   "id": "3b09bde2",
   "metadata": {},
   "source": [
    "### Take the code from the Examples section of the scipy stats documentation for independent samples t-tests, add it to your own notebook and add explain how it works using MarkDown cells and code comments. Improve it in any way you think it could be improved."
   ]
  },
  {
   "cell_type": "code",
   "execution_count": null,
   "id": "6be99caa",
   "metadata": {},
   "outputs": [],
   "source": [
    "scipy.stats.ttest_ind(a, b, axis=0, equal_var=True, nan_policy='propagate', permutations=None, random_state=None, alternative='two-sided', trim=0)"
   ]
  },
  {
   "cell_type": "markdown",
   "id": "ca3ee96e",
   "metadata": {},
   "source": [
    "This code is testing for a statistically significant difference in the means between two groups. It is a parametric test, and so certain assumptions are made about population parameters and the distributiions that the data came from. The test assumes the data follows a normal distribution. "
   ]
  },
  {
   "cell_type": "markdown",
   "id": "af4a8a3f",
   "metadata": {},
   "source": [
    "Parametric tests allow for certain assumptions, but these assumptions must be reflected by the data. The sample data should come from a population that has a generally normal distribution. The population must have the same variance, and there will be randomly sampled independent observations. The test will not allow for extreme outliers."
   ]
  },
  {
   "cell_type": "markdown",
   "id": "7fdd8beb",
   "metadata": {},
   "source": [
    "One-sample t-test consists of one group as a sample and a second froup as the population. This allows us to compare a sample with a standard population value. "
   ]
  },
  {
   "cell_type": "markdown",
   "id": "18452549",
   "metadata": {},
   "source": [
    "Meanwhile a two-sample t-test consists of two groups as separate samples. Both samples will be randomly selected from the population and the observations will be independent of each other. This t-test version is useful when comparing two variables. "
   ]
  },
  {
   "cell_type": "markdown",
   "id": "86441034",
   "metadata": {},
   "source": [
    "Resources:\n",
    "\n",
    "https://neuraldatascience.io/5-eda/ttests.html\n",
    "\n",
    "https://www.pythonfordatascience.org/independent-samples-t-test-python/\n",
    "\n",
    "https://pythonguides.com/python-scipy-ttest_ind/\n"
   ]
  }
 ],
 "metadata": {
  "kernelspec": {
   "display_name": "Python 3 (ipykernel)",
   "language": "python",
   "name": "python3"
  },
  "language_info": {
   "codemirror_mode": {
    "name": "ipython",
    "version": 3
   },
   "file_extension": ".py",
   "mimetype": "text/x-python",
   "name": "python",
   "nbconvert_exporter": "python",
   "pygments_lexer": "ipython3",
   "version": "3.9.7"
  },
  "vscode": {
   "interpreter": {
    "hash": "ebfaa2d6028bb57d8fbc651141c677d24bd37531435a8311bb5c5a2ec70f040b"
   }
  }
 },
 "nbformat": 4,
 "nbformat_minor": 5
}
