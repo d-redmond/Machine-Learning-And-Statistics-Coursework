{
 "cells": [
  {
   "cell_type": "markdown",
   "id": "9600491e",
   "metadata": {},
   "source": [
    "# Topic 5: Data Cleansing, Exercise 2"
   ]
  },
  {
   "cell_type": "markdown",
   "id": "b45b549b",
   "metadata": {},
   "source": [
    "### Adapt the above code to capitalise the first letter of the iris species, using regular expressions."
   ]
  },
  {
   "cell_type": "code",
   "execution_count": null,
   "id": "fbe716ad",
   "metadata": {},
   "outputs": [],
   "source": [
    "import re\n",
    "import urllib.request\n",
    "\n",
    "url = r'https://archive.ics.uci.edu/ml/machine-learning-databases/iris/iris.data'\n",
    "iris = [line.decode('utf-8').strip() for line in urllib.request.urlopen(url)]\n",
    "iris"
   ]
  },
  {
   "cell_type": "code",
   "execution_count": null,
   "id": "f427d64d",
   "metadata": {},
   "outputs": [],
   "source": [
    "strip_iris = re.compile(r'([0-9]\\.[0-9]),([0-9]\\.[0-9]),([0-9]\\.[0-9]),([0-9]\\"
   ]
  },
  {
   "cell_type": "code",
   "execution_count": null,
   "id": "40b3d7c2",
   "metadata": {},
   "outputs": [],
   "source": [
    "strip_iris2 = [strip_iris.sub(r'\\5,\\4,\\3,\\2,\\1', line) for line in iris if line"
   ]
  },
  {
   "cell_type": "code",
   "execution_count": null,
   "id": "2c381442",
   "metadata": {},
   "outputs": [],
   "source": [
    "def capitalise(c):\n",
    "    return c.group(1) + c.group(2).upper()\n",
    "\n",
    "[re.sub(\"(^|\\s)(\\S)\", capitalise, line) for line in strip_iris2]"
   ]
  },
  {
   "cell_type": "markdown",
   "id": "76a875ed",
   "metadata": {},
   "source": [
    "Resources:\n",
    "\n",
    "https://stackoverflow.com/a/1393367\n",
    "\n",
    "https://favtutor.com/blogs/capitalize-first-letter-python"
   ]
  },
  {
   "cell_type": "code",
   "execution_count": null,
   "id": "d672662e",
   "metadata": {},
   "outputs": [],
   "source": []
  }
 ],
 "metadata": {
  "kernelspec": {
   "display_name": "Python 3 (ipykernel)",
   "language": "python",
   "name": "python3"
  },
  "language_info": {
   "codemirror_mode": {
    "name": "ipython",
    "version": 3
   },
   "file_extension": ".py",
   "mimetype": "text/x-python",
   "name": "python",
   "nbconvert_exporter": "python",
   "pygments_lexer": "ipython3",
   "version": "3.9.7"
  }
 },
 "nbformat": 4,
 "nbformat_minor": 5
}
