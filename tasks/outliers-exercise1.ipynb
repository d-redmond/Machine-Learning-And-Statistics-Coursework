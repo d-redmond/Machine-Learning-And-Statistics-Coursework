{
 "cells": [
  {
   "cell_type": "markdown",
   "id": "0db7e663",
   "metadata": {},
   "source": [
    "# Topic 4: Outliers, Exercise 1"
   ]
  },
  {
   "cell_type": "markdown",
   "id": "e17911f8",
   "metadata": {},
   "source": [
    "### Create box plots on a single set of axes for all five experiments in the morley data set."
   ]
  },
  {
   "cell_type": "code",
   "execution_count": 1,
   "id": "c48b8699",
   "metadata": {},
   "outputs": [],
   "source": [
    "import numpy as np\n",
    "import matplotlib.pyplot as plt\n",
    "import pandas as pd\n",
    "import seaborn as sns"
   ]
  },
  {
   "cell_type": "code",
   "execution_count": null,
   "id": "bbb650f8",
   "metadata": {},
   "outputs": [],
   "source": [
    "data = pd.read_csv('morley.csv')"
   ]
  },
  {
   "cell_type": "code",
   "execution_count": null,
   "id": "3e1cd1a5",
   "metadata": {},
   "outputs": [],
   "source": [
    "# Boxplot, single axes, five experiments\n",
    "sns.boxplot(x=data['Ex'], y=data['Speed'])\n",
    "plt.xlabel('Experiment')\n",
    "plt.ylabel('Speed of light (km/s)')\n",
    "plt.title('Five Experiments in the Morley Data Set')\n",
    "plt.show()"
   ]
  },
  {
   "cell_type": "markdown",
   "id": "20c8b1ce",
   "metadata": {},
   "source": [
    "Resources:\n",
    "\n",
    "https://rstudio-pubs-static.s3.amazonaws.com/249629_36f11cfc8b2241d680985b7d0dda1134.html\n",
    "\n",
    "https://medium.com/analytics-vidhya/finding-outliers-4694572f7801\n",
    "\n",
    "https://www.wikiwand.com/en/Outlier\n",
    "\n"
   ]
  }
 ],
 "metadata": {
  "kernelspec": {
   "display_name": "Python 3 (ipykernel)",
   "language": "python",
   "name": "python3"
  },
  "language_info": {
   "codemirror_mode": {
    "name": "ipython",
    "version": 3
   },
   "file_extension": ".py",
   "mimetype": "text/x-python",
   "name": "python",
   "nbconvert_exporter": "python",
   "pygments_lexer": "ipython3",
   "version": "3.9.7"
  }
 },
 "nbformat": 4,
 "nbformat_minor": 5
}
