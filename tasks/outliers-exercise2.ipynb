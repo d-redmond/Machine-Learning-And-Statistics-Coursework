{
 "cells": [
  {
   "cell_type": "markdown",
   "id": "92450709",
   "metadata": {},
   "source": [
    "# Topic 4: Outliers, Exercise 2"
   ]
  },
  {
   "cell_type": "markdown",
   "id": "b65d9949",
   "metadata": {},
   "source": [
    "### Create box plots for all of the numercial variables in Fisher's Iris Data Set."
   ]
  },
  {
   "cell_type": "code",
   "execution_count": null,
   "id": "c4b72540",
   "metadata": {},
   "outputs": [],
   "source": [
    "import numpy as np\n",
    "import matplotlib.pyplot as plt\n",
    "import pandas as pd\n",
    "import seaborn as sns"
   ]
  },
  {
   "cell_type": "code",
   "execution_count": null,
   "id": "528f6579",
   "metadata": {},
   "outputs": [],
   "source": [
    "data = pd.read_csv('Iris-Data-Set.csv')"
   ]
  },
  {
   "cell_type": "code",
   "execution_count": null,
   "id": "dc783612",
   "metadata": {},
   "outputs": [],
   "source": [
    "# Boxplot, four Iris types, four variables\n",
    "data.boxplot()\n",
    "plt.title('Boxplot of the Iris Data Set')\n",
    "plt.show()"
   ]
  },
  {
   "cell_type": "markdown",
   "id": "7b371a09",
   "metadata": {},
   "source": [
    "Resources:\n",
    "\n",
    "https://www.geeksforgeeks.org/box-plot-and-histogram-exploration-on-iris-data/\n",
    "\n",
    "https://medium.com/analytics-vidhya/exploratory-data-analysis-uni-variate-analysis-of-iris-data-set-690c87a5cd40\n",
    "\n",
    "https://stackoverflow.com/questions/66833728/boxplots-with-seaborn-for-all-variables-in-a-dataset-at-once\n",
    "\n",
    "https://www.w3resource.com/machine-learning/scikit-learn/iris/python-machine-learning-scikit-learn-iris-visualization-exercise-18.php\n"
   ]
  }
 ],
 "metadata": {
  "kernelspec": {
   "display_name": "Python 3 (ipykernel)",
   "language": "python",
   "name": "python3"
  },
  "language_info": {
   "codemirror_mode": {
    "name": "ipython",
    "version": 3
   },
   "file_extension": ".py",
   "mimetype": "text/x-python",
   "name": "python",
   "nbconvert_exporter": "python",
   "pygments_lexer": "ipython3",
   "version": "3.9.7"
  }
 },
 "nbformat": 4,
 "nbformat_minor": 5
}
