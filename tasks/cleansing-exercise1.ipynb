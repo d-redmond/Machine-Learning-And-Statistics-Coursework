{
 "cells": [
  {
   "cell_type": "markdown",
   "id": "87bab45c",
   "metadata": {},
   "source": [
    "# Topic 5: Data Cleansing, Exercise 1"
   ]
  },
  {
   "cell_type": "markdown",
   "id": "fb57f738",
   "metadata": {},
   "source": [
    "### Write a Python function to remove all non-alphanumeric characters from a string."
   ]
  },
  {
   "cell_type": "code",
   "execution_count": 3,
   "id": "7bf9059d",
   "metadata": {},
   "outputs": [
    {
     "name": "stdout",
     "output_type": "stream",
     "text": [
      "qtxDom2a0MO8DsyMyRsr\n"
     ]
    }
   ],
   "source": [
    "import re\n",
    "\n",
    "random_str = 'qtx@Dom?2a0M//O8D*syMyRsr'\n",
    "new_str = re.sub(r'[^\\w\\s]', '', random_str)\n",
    "\n",
    "print(new_str)"
   ]
  },
  {
   "cell_type": "markdown",
   "id": "45a63ff7",
   "metadata": {},
   "source": [
    "Resources:\n",
    "\n",
    "https://docs.python.org/3/library/re.html\n",
    "    \n",
    "https://pynative.com/python-generate-random-string/\n",
    "    \n",
    "https://bobbyhadz.com/blog/python-remove-non-alphanumeric-characters-from-string"
   ]
  },
  {
   "cell_type": "code",
   "execution_count": null,
   "id": "9e38dc6f",
   "metadata": {},
   "outputs": [],
   "source": []
  }
 ],
 "metadata": {
  "kernelspec": {
   "display_name": "Python 3 (ipykernel)",
   "language": "python",
   "name": "python3"
  },
  "language_info": {
   "codemirror_mode": {
    "name": "ipython",
    "version": 3
   },
   "file_extension": ".py",
   "mimetype": "text/x-python",
   "name": "python",
   "nbconvert_exporter": "python",
   "pygments_lexer": "ipython3",
   "version": "3.9.7"
  }
 },
 "nbformat": 4,
 "nbformat_minor": 5
}
